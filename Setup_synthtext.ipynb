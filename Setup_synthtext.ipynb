{
 "cells": [
  {
   "cell_type": "code",
   "execution_count": 1,
   "metadata": {},
   "outputs": [
    {
     "name": "stdout",
     "output_type": "stream",
     "text": [
      "reading data from data/SynthText/gt.mat\n",
      "Done.\n"
     ]
    }
   ],
   "source": [
    "import os\n",
    "import scipy.io as io\n",
    "from tqdm import tqdm\n",
    "\n",
    "gt_mat_path = 'data/SynthText/gt.mat'\n",
    "im_root = 'data/SynthText/'\n",
    "txt_root = 'data/SynthText/gt/'\n",
    "\n",
    "if not os.path.exists(txt_root):\n",
    "    os.mkdir(txt_root)\n",
    "\n",
    "print('reading data from {}'.format(gt_mat_path))\n",
    "gt = io.loadmat(gt_mat_path)\n",
    "print('Done.')"
   ]
  },
  {
   "cell_type": "code",
   "execution_count": 5,
   "metadata": {},
   "outputs": [
    {
     "data": {
      "text/plain": [
       "array([array(['8/ballet_106_0.jpg'], dtype='<U18'),\n",
       "       array(['8/ballet_106_1.jpg'], dtype='<U18'),\n",
       "       array(['8/ballet_106_10.jpg'], dtype='<U19'), ...,\n",
       "       array(['164/steel_75_97.jpg'], dtype='<U19'),\n",
       "       array(['164/steel_75_98.jpg'], dtype='<U19'),\n",
       "       array(['164/steel_75_99.jpg'], dtype='<U19')], dtype=object)"
      ]
     },
     "execution_count": 5,
     "metadata": {},
     "output_type": "execute_result"
    }
   ],
   "source": [
    "gt['imnames'][0]"
   ]
  },
  {
   "cell_type": "code",
   "execution_count": 3,
   "metadata": {},
   "outputs": [],
   "source": [
    "import subprocess"
   ]
  },
  {
   "cell_type": "code",
   "execution_count": 6,
   "metadata": {},
   "outputs": [
    {
     "name": "stderr",
     "output_type": "stream",
     "text": [
      "100%|██████████| 858750/858750 [01:14<00:00, 11570.90it/s]\n"
     ]
    }
   ],
   "source": [
    "for i, imname in enumerate(tqdm(gt['imnames'][0])):\n",
    "    imname = imname[0]\n",
    "    img_id = os.path.basename(imname)\n",
    "    im_path = os.path.join(im_root, imname)\n",
    "    txt_path = os.path.join(txt_root, img_id.replace('jpg', 'txt'))\n",
    "\n",
    "    if len(gt['wordBB'][0,i].shape) == 2:\n",
    "        annots = gt['wordBB'][0,i].transpose(1, 0).reshape(-1, 8)\n",
    "    else:\n",
    "        annots = gt['wordBB'][0,i].transpose(2, 1, 0).reshape(-1, 8)\n",
    "    with open(txt_path, 'w') as f:\n",
    "        f.write(imname + '\\n')\n",
    "        for annot in annots:\n",
    "            str_write = ','.join(annot.astype(str).tolist())\n",
    "            f.write(str_write + '\\n')"
   ]
  },
  {
   "cell_type": "code",
   "execution_count": 16,
   "metadata": {},
   "outputs": [
    {
     "name": "stderr",
     "output_type": "stream",
     "text": [
      "100%|██████████| 858750/858750 [00:09<00:00, 91043.02it/s]\n"
     ]
    }
   ],
   "source": [
    "txt_path = \"data/SynthText/image_list.txt\"\n",
    "for i, imname in enumerate(tqdm(gt['imnames'][0])):\n",
    "    imname = imname[0]\n",
    "    img_id = os.path.basename(imname)\n",
    "    im_path = os.path.join(im_root, imname)\n",
    "    if i == 0:\n",
    "        with open(txt_path, 'w') as f:\n",
    "            f.write(img_id.replace(\".jpg\", \".txt\") + '\\n')\n",
    "    else:\n",
    "        with open(txt_path, 'a') as f:\n",
    "            f.write(img_id.replace(\".jpg\", \".txt\") + '\\n')"
   ]
  },
  {
   "cell_type": "code",
   "execution_count": 14,
   "metadata": {},
   "outputs": [
    {
     "data": {
      "text/plain": [
       "'steel_75_99'"
      ]
     },
     "execution_count": 14,
     "metadata": {},
     "output_type": "execute_result"
    }
   ],
   "source": [
    "img_id.replace(\".jpg\", \"\")"
   ]
  },
  {
   "cell_type": "raw",
   "metadata": {},
   "source": []
  }
 ],
 "metadata": {
  "kernelspec": {
   "display_name": "Python 3",
   "language": "python",
   "name": "python3"
  },
  "language_info": {
   "codemirror_mode": {
    "name": "ipython",
    "version": 3
   },
   "file_extension": ".py",
   "mimetype": "text/x-python",
   "name": "python",
   "nbconvert_exporter": "python",
   "pygments_lexer": "ipython3",
   "version": "3.8.2"
  }
 },
 "nbformat": 4,
 "nbformat_minor": 4
}
